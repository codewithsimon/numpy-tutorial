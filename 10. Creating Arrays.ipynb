{
 "cells": [
  {
   "cell_type": "markdown",
   "id": "favorite-swift",
   "metadata": {},
   "source": [
    "# Creating Arrays"
   ]
  },
  {
   "cell_type": "markdown",
   "id": "promising-diary",
   "metadata": {},
   "source": [
    "- arange()\n",
    "- linspace()\n",
    "- array()\n",
    "- zeros()\n",
    "- ones()\n",
    "- identity()"
   ]
  },
  {
   "cell_type": "code",
   "execution_count": 1,
   "id": "general-narrow",
   "metadata": {},
   "outputs": [],
   "source": [
    "import numpy as np"
   ]
  },
  {
   "cell_type": "markdown",
   "id": "demonstrated-dynamics",
   "metadata": {},
   "source": [
    "### arange(start, stop, gap)"
   ]
  },
  {
   "cell_type": "code",
   "execution_count": 2,
   "id": "similar-spouse",
   "metadata": {},
   "outputs": [],
   "source": [
    "a = np.arange(4)"
   ]
  },
  {
   "cell_type": "code",
   "execution_count": 3,
   "id": "central-paint",
   "metadata": {},
   "outputs": [
    {
     "data": {
      "text/plain": [
       "array([0, 1, 2, 3])"
      ]
     },
     "execution_count": 3,
     "metadata": {},
     "output_type": "execute_result"
    }
   ],
   "source": [
    "a"
   ]
  },
  {
   "cell_type": "code",
   "execution_count": 4,
   "id": "internal-trance",
   "metadata": {},
   "outputs": [],
   "source": [
    "b = np.arange(1,10,2)"
   ]
  },
  {
   "cell_type": "code",
   "execution_count": 5,
   "id": "underlying-fiction",
   "metadata": {},
   "outputs": [
    {
     "data": {
      "text/plain": [
       "array([1, 3, 5, 7, 9])"
      ]
     },
     "execution_count": 5,
     "metadata": {},
     "output_type": "execute_result"
    }
   ],
   "source": [
    "b"
   ]
  },
  {
   "cell_type": "markdown",
   "id": "capital-parker",
   "metadata": {},
   "source": [
    "### ones and zeros"
   ]
  },
  {
   "cell_type": "markdown",
   "id": "lesbian-comment",
   "metadata": {},
   "source": [
    "> **ones(shape, dtype='float64')**"
   ]
  },
  {
   "cell_type": "code",
   "execution_count": 6,
   "id": "grave-prize",
   "metadata": {},
   "outputs": [],
   "source": [
    "c = np.ones((2,3), dtype='int32')"
   ]
  },
  {
   "cell_type": "code",
   "execution_count": 7,
   "id": "prostate-peter",
   "metadata": {},
   "outputs": [
    {
     "data": {
      "text/plain": [
       "array([[1, 1, 1],\n",
       "       [1, 1, 1]])"
      ]
     },
     "execution_count": 7,
     "metadata": {},
     "output_type": "execute_result"
    }
   ],
   "source": [
    "c"
   ]
  },
  {
   "cell_type": "code",
   "execution_count": 8,
   "id": "identical-princess",
   "metadata": {},
   "outputs": [
    {
     "data": {
      "text/plain": [
       "array([[0, 0, 0],\n",
       "       [0, 0, 0],\n",
       "       [0, 0, 0]])"
      ]
     },
     "execution_count": 8,
     "metadata": {},
     "output_type": "execute_result"
    }
   ],
   "source": [
    "d = np.zeros((3,3), dtype='int32')\n",
    "d"
   ]
  },
  {
   "cell_type": "markdown",
   "id": "spare-payday",
   "metadata": {},
   "source": [
    "### Identity\n",
    "- Generate an **n** by **n** identity array. The default dtype is float64."
   ]
  },
  {
   "cell_type": "code",
   "execution_count": 11,
   "id": "domestic-cable",
   "metadata": {},
   "outputs": [],
   "source": [
    "a = np.identity(4, dtype='int32')"
   ]
  },
  {
   "cell_type": "code",
   "execution_count": 12,
   "id": "allied-deadline",
   "metadata": {},
   "outputs": [
    {
     "data": {
      "text/plain": [
       "array([[1, 0, 0, 0],\n",
       "       [0, 1, 0, 0],\n",
       "       [0, 0, 1, 0],\n",
       "       [0, 0, 0, 1]])"
      ]
     },
     "execution_count": 12,
     "metadata": {},
     "output_type": "execute_result"
    }
   ],
   "source": [
    "a"
   ]
  },
  {
   "cell_type": "markdown",
   "id": "provincial-brooks",
   "metadata": {},
   "source": [
    "### Linspace"
   ]
  },
  {
   "cell_type": "markdown",
   "id": "fitting-nowhere",
   "metadata": {},
   "source": [
    "- Generate **N** evenly spaced elements between (and including) start and stop values"
   ]
  },
  {
   "cell_type": "code",
   "execution_count": 13,
   "id": "surprising-wilderness",
   "metadata": {},
   "outputs": [
    {
     "data": {
      "text/plain": [
       "array([0.  , 0.25, 0.5 , 0.75, 1.  ])"
      ]
     },
     "execution_count": 13,
     "metadata": {},
     "output_type": "execute_result"
    }
   ],
   "source": [
    "np.linspace(0,1,5)"
   ]
  },
  {
   "cell_type": "code",
   "execution_count": null,
   "id": "occupied-tenant",
   "metadata": {},
   "outputs": [],
   "source": []
  }
 ],
 "metadata": {
  "kernelspec": {
   "display_name": "Python 3",
   "language": "python",
   "name": "python3"
  },
  "language_info": {
   "codemirror_mode": {
    "name": "ipython",
    "version": 3
   },
   "file_extension": ".py",
   "mimetype": "text/x-python",
   "name": "python",
   "nbconvert_exporter": "python",
   "pygments_lexer": "ipython3",
   "version": "3.9.1"
  }
 },
 "nbformat": 4,
 "nbformat_minor": 5
}
