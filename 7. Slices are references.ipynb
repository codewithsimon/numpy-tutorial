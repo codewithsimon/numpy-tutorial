{
 "cells": [
  {
   "cell_type": "markdown",
   "id": "democratic-namibia",
   "metadata": {},
   "source": [
    "# Slices are References"
   ]
  },
  {
   "cell_type": "markdown",
   "id": "gothic-ethiopia",
   "metadata": {},
   "source": [
    "##### Slices are references to locations in memory. These memory locations can be used in assignment operations.\n",
    "<hr>"
   ]
  },
  {
   "cell_type": "code",
   "execution_count": 1,
   "id": "upset-benefit",
   "metadata": {},
   "outputs": [],
   "source": [
    "import numpy as np"
   ]
  },
  {
   "cell_type": "code",
   "execution_count": 2,
   "id": "patent-sunset",
   "metadata": {},
   "outputs": [],
   "source": [
    "a = np.array([0,1,2,3,4])"
   ]
  },
  {
   "cell_type": "markdown",
   "id": "specified-durham",
   "metadata": {},
   "source": [
    "### Slicing last two elements returns the data there"
   ]
  },
  {
   "cell_type": "code",
   "execution_count": 3,
   "id": "according-cemetery",
   "metadata": {},
   "outputs": [
    {
     "data": {
      "text/plain": [
       "array([3, 4])"
      ]
     },
     "execution_count": 3,
     "metadata": {},
     "output_type": "execute_result"
    }
   ],
   "source": [
    "a[-2:]"
   ]
  },
  {
   "cell_type": "markdown",
   "id": "sharp-while",
   "metadata": {},
   "source": [
    "### We can insert an iterable of length two"
   ]
  },
  {
   "cell_type": "code",
   "execution_count": 4,
   "id": "czech-switch",
   "metadata": {},
   "outputs": [],
   "source": [
    "a[-2:] = [-1,-2]"
   ]
  },
  {
   "cell_type": "code",
   "execution_count": 5,
   "id": "composite-journey",
   "metadata": {},
   "outputs": [
    {
     "data": {
      "text/plain": [
       "array([ 0,  1,  2, -1, -2])"
      ]
     },
     "execution_count": 5,
     "metadata": {},
     "output_type": "execute_result"
    }
   ],
   "source": [
    "a"
   ]
  },
  {
   "cell_type": "markdown",
   "id": "mediterranean-pendant",
   "metadata": {},
   "source": [
    "#### or a scalar value"
   ]
  },
  {
   "cell_type": "code",
   "execution_count": 6,
   "id": "proof-hawaii",
   "metadata": {},
   "outputs": [],
   "source": [
    "a[-2:] = 99"
   ]
  },
  {
   "cell_type": "code",
   "execution_count": 7,
   "id": "breathing-keeping",
   "metadata": {},
   "outputs": [
    {
     "data": {
      "text/plain": [
       "array([ 0,  1,  2, 99, 99])"
      ]
     },
     "execution_count": 7,
     "metadata": {},
     "output_type": "execute_result"
    }
   ],
   "source": [
    "a"
   ]
  },
  {
   "cell_type": "code",
   "execution_count": null,
   "id": "fitted-collector",
   "metadata": {},
   "outputs": [],
   "source": []
  }
 ],
 "metadata": {
  "kernelspec": {
   "display_name": "Python 3",
   "language": "python",
   "name": "python3"
  },
  "language_info": {
   "codemirror_mode": {
    "name": "ipython",
    "version": 3
   },
   "file_extension": ".py",
   "mimetype": "text/x-python",
   "name": "python",
   "nbconvert_exporter": "python",
   "pygments_lexer": "ipython3",
   "version": "3.9.1"
  }
 },
 "nbformat": 4,
 "nbformat_minor": 5
}
