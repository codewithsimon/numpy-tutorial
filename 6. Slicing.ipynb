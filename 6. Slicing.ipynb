{
 "cells": [
  {
   "cell_type": "markdown",
   "id": "engaged-chess",
   "metadata": {},
   "source": [
    "# Slicing"
   ]
  },
  {
   "cell_type": "code",
   "execution_count": 1,
   "id": "absent-paintball",
   "metadata": {},
   "outputs": [],
   "source": [
    "import numpy as np"
   ]
  },
  {
   "cell_type": "markdown",
   "id": "respected-canada",
   "metadata": {},
   "source": [
    "> ### var[lower:upper:step]"
   ]
  },
  {
   "cell_type": "markdown",
   "id": "handmade-slovak",
   "metadata": {},
   "source": [
    "- Extracts a portion of a Sequence by specifying a lower and upper bound.\n",
    "- The lower bound element is inluded, but the upper bound element is **not** included\n"
   ]
  },
  {
   "cell_type": "markdown",
   "id": "packed-natural",
   "metadata": {},
   "source": [
    "### Slicing Arrays"
   ]
  },
  {
   "cell_type": "markdown",
   "id": "annoying-penetration",
   "metadata": {},
   "source": [
    "            -5,-4,-3,-2,-1\n",
    "             0, 1, 2, 3, 4"
   ]
  },
  {
   "cell_type": "code",
   "execution_count": 3,
   "id": "moving-holly",
   "metadata": {},
   "outputs": [
    {
     "data": {
      "text/plain": [
       "array([10, 11, 12, 13, 14])"
      ]
     },
     "execution_count": 3,
     "metadata": {},
     "output_type": "execute_result"
    }
   ],
   "source": [
    "a = np.array([10,11,12,13,14])\n",
    "a"
   ]
  },
  {
   "cell_type": "markdown",
   "id": "homeless-exhaust",
   "metadata": {},
   "source": [
    "[10, **11, 12**, 13, 14]"
   ]
  },
  {
   "cell_type": "code",
   "execution_count": 6,
   "id": "behind-premises",
   "metadata": {},
   "outputs": [
    {
     "data": {
      "text/plain": [
       "array([11, 12])"
      ]
     },
     "execution_count": 6,
     "metadata": {},
     "output_type": "execute_result"
    }
   ],
   "source": [
    "a[1:3]"
   ]
  },
  {
   "cell_type": "markdown",
   "id": "norwegian-mention",
   "metadata": {},
   "source": [
    "*negetive indices work also*"
   ]
  },
  {
   "cell_type": "code",
   "execution_count": 7,
   "id": "relative-reset",
   "metadata": {},
   "outputs": [
    {
     "data": {
      "text/plain": [
       "array([11, 12])"
      ]
     },
     "execution_count": 7,
     "metadata": {},
     "output_type": "execute_result"
    }
   ],
   "source": [
    "a[1:-2]"
   ]
  },
  {
   "cell_type": "markdown",
   "id": "extreme-death",
   "metadata": {},
   "source": [
    "### Omiting Indices"
   ]
  },
  {
   "cell_type": "code",
   "execution_count": 8,
   "id": "robust-harvest",
   "metadata": {},
   "outputs": [
    {
     "data": {
      "text/plain": [
       "array([10, 11, 12, 13, 14])"
      ]
     },
     "execution_count": 8,
     "metadata": {},
     "output_type": "execute_result"
    }
   ],
   "source": [
    "a = np.array([10,11,12,13,14])\n",
    "a"
   ]
  },
  {
   "cell_type": "markdown",
   "id": "iraqi-syria",
   "metadata": {},
   "source": [
    "- **grab first three elements**"
   ]
  },
  {
   "cell_type": "code",
   "execution_count": 9,
   "id": "personalized-martin",
   "metadata": {},
   "outputs": [
    {
     "data": {
      "text/plain": [
       "array([10, 11, 12])"
      ]
     },
     "execution_count": 9,
     "metadata": {},
     "output_type": "execute_result"
    }
   ],
   "source": [
    "a[:3]"
   ]
  },
  {
   "cell_type": "markdown",
   "id": "altered-watershed",
   "metadata": {},
   "source": [
    "- **grab last two elements**"
   ]
  },
  {
   "cell_type": "code",
   "execution_count": 10,
   "id": "multiple-contest",
   "metadata": {},
   "outputs": [
    {
     "data": {
      "text/plain": [
       "array([13, 14])"
      ]
     },
     "execution_count": 10,
     "metadata": {},
     "output_type": "execute_result"
    }
   ],
   "source": [
    "a[-2:]"
   ]
  },
  {
   "cell_type": "markdown",
   "id": "stock-sacrifice",
   "metadata": {},
   "source": [
    "- **every other element**"
   ]
  },
  {
   "cell_type": "code",
   "execution_count": 11,
   "id": "rental-burning",
   "metadata": {},
   "outputs": [
    {
     "data": {
      "text/plain": [
       "array([10, 12, 14])"
      ]
     },
     "execution_count": 11,
     "metadata": {},
     "output_type": "execute_result"
    }
   ],
   "source": [
    "a[::2]"
   ]
  },
  {
   "cell_type": "code",
   "execution_count": null,
   "id": "forbidden-culture",
   "metadata": {},
   "outputs": [],
   "source": []
  }
 ],
 "metadata": {
  "kernelspec": {
   "display_name": "Python 3",
   "language": "python",
   "name": "python3"
  },
  "language_info": {
   "codemirror_mode": {
    "name": "ipython",
    "version": 3
   },
   "file_extension": ".py",
   "mimetype": "text/x-python",
   "name": "python",
   "nbconvert_exporter": "python",
   "pygments_lexer": "ipython3",
   "version": "3.9.1"
  }
 },
 "nbformat": 4,
 "nbformat_minor": 5
}
