{
 "cells": [
  {
   "cell_type": "markdown",
   "id": "analyzed-friendship",
   "metadata": {},
   "source": [
    "# Introducing Numpy Arrays"
   ]
  },
  {
   "cell_type": "markdown",
   "id": "usual-stockholm",
   "metadata": {},
   "source": [
    "### Import Numpy"
   ]
  },
  {
   "cell_type": "code",
   "execution_count": 1,
   "id": "welcome-hamilton",
   "metadata": {},
   "outputs": [],
   "source": [
    "import numpy as np"
   ]
  },
  {
   "cell_type": "markdown",
   "id": "operating-fisher",
   "metadata": {},
   "source": [
    "### Simple Array Creation"
   ]
  },
  {
   "cell_type": "code",
   "execution_count": 2,
   "id": "approximate-nelson",
   "metadata": {},
   "outputs": [],
   "source": [
    "a = np.array([0,1,2,3,4])"
   ]
  },
  {
   "cell_type": "code",
   "execution_count": 3,
   "id": "entire-qatar",
   "metadata": {},
   "outputs": [
    {
     "data": {
      "text/plain": [
       "array([0, 1, 2, 3, 4])"
      ]
     },
     "execution_count": 3,
     "metadata": {},
     "output_type": "execute_result"
    }
   ],
   "source": [
    "a"
   ]
  },
  {
   "cell_type": "markdown",
   "id": "forward-destiny",
   "metadata": {},
   "source": [
    "### Checking Type"
   ]
  },
  {
   "cell_type": "code",
   "execution_count": 5,
   "id": "looking-creativity",
   "metadata": {},
   "outputs": [
    {
     "data": {
      "text/plain": [
       "numpy.ndarray"
      ]
     },
     "execution_count": 5,
     "metadata": {},
     "output_type": "execute_result"
    }
   ],
   "source": [
    "type(a)"
   ]
  },
  {
   "cell_type": "markdown",
   "id": "revised-implement",
   "metadata": {},
   "source": [
    "### Numeric \"Type\" of Elements"
   ]
  },
  {
   "cell_type": "code",
   "execution_count": 6,
   "id": "joined-gasoline",
   "metadata": {},
   "outputs": [
    {
     "data": {
      "text/plain": [
       "dtype('int32')"
      ]
     },
     "execution_count": 6,
     "metadata": {},
     "output_type": "execute_result"
    }
   ],
   "source": [
    "a.dtype"
   ]
  },
  {
   "cell_type": "markdown",
   "id": "fundamental-academy",
   "metadata": {},
   "source": [
    "### Number of Dimensions"
   ]
  },
  {
   "cell_type": "code",
   "execution_count": 7,
   "id": "subjective-nursery",
   "metadata": {},
   "outputs": [
    {
     "data": {
      "text/plain": [
       "1"
      ]
     },
     "execution_count": 7,
     "metadata": {},
     "output_type": "execute_result"
    }
   ],
   "source": [
    "a.ndim"
   ]
  },
  {
   "cell_type": "markdown",
   "id": "phantom-ground",
   "metadata": {},
   "source": [
    "### Array Shapes"
   ]
  },
  {
   "cell_type": "markdown",
   "id": "electoral-savings",
   "metadata": {},
   "source": [
    "- Shape returns a tuple\n",
    "- List of the length of the array along each dimension"
   ]
  },
  {
   "cell_type": "code",
   "execution_count": 8,
   "id": "other-kazakhstan",
   "metadata": {},
   "outputs": [
    {
     "data": {
      "text/plain": [
       "(5,)"
      ]
     },
     "execution_count": 8,
     "metadata": {},
     "output_type": "execute_result"
    }
   ],
   "source": [
    "a.shape"
   ]
  },
  {
   "cell_type": "markdown",
   "id": "returning-momentum",
   "metadata": {},
   "source": [
    "### Bytes per Element"
   ]
  },
  {
   "cell_type": "code",
   "execution_count": 9,
   "id": "civilian-washington",
   "metadata": {},
   "outputs": [
    {
     "data": {
      "text/plain": [
       "4"
      ]
     },
     "execution_count": 9,
     "metadata": {},
     "output_type": "execute_result"
    }
   ],
   "source": [
    "a.itemsize"
   ]
  },
  {
   "cell_type": "markdown",
   "id": "english-italy",
   "metadata": {},
   "source": [
    "### Bytes of Memories Used"
   ]
  },
  {
   "cell_type": "code",
   "execution_count": 10,
   "id": "endless-batman",
   "metadata": {},
   "outputs": [
    {
     "data": {
      "text/plain": [
       "20"
      ]
     },
     "execution_count": 10,
     "metadata": {},
     "output_type": "execute_result"
    }
   ],
   "source": [
    "a.nbytes"
   ]
  },
  {
   "cell_type": "code",
   "execution_count": null,
   "id": "threaded-catalyst",
   "metadata": {},
   "outputs": [],
   "source": []
  }
 ],
 "metadata": {
  "kernelspec": {
   "display_name": "Python 3",
   "language": "python",
   "name": "python3"
  },
  "language_info": {
   "codemirror_mode": {
    "name": "ipython",
    "version": 3
   },
   "file_extension": ".py",
   "mimetype": "text/x-python",
   "name": "python",
   "nbconvert_exporter": "python",
   "pygments_lexer": "ipython3",
   "version": "3.9.1"
  }
 },
 "nbformat": 4,
 "nbformat_minor": 5
}
