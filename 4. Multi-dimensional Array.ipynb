{
 "cells": [
  {
   "cell_type": "markdown",
   "id": "apart-martin",
   "metadata": {},
   "source": [
    "# Multidimensional Array"
   ]
  },
  {
   "cell_type": "code",
   "execution_count": 1,
   "id": "stopped-justice",
   "metadata": {},
   "outputs": [],
   "source": [
    "import numpy as np"
   ]
  },
  {
   "cell_type": "markdown",
   "id": "printable-westminster",
   "metadata": {},
   "source": [
    "### Creating Multi Dimensional Arrays"
   ]
  },
  {
   "cell_type": "code",
   "execution_count": 2,
   "id": "dynamic-baking",
   "metadata": {},
   "outputs": [],
   "source": [
    "a = np.array([[0,1,2,3],\n",
    "             [10,11,12,13]])"
   ]
  },
  {
   "cell_type": "code",
   "execution_count": 3,
   "id": "written-mitchell",
   "metadata": {},
   "outputs": [
    {
     "data": {
      "text/plain": [
       "array([[ 0,  1,  2,  3],\n",
       "       [10, 11, 12, 13]])"
      ]
     },
     "execution_count": 3,
     "metadata": {},
     "output_type": "execute_result"
    }
   ],
   "source": [
    "a"
   ]
  },
  {
   "cell_type": "markdown",
   "id": "cross-pepper",
   "metadata": {},
   "source": [
    "![2-D Array](Images/3.png)"
   ]
  },
  {
   "cell_type": "markdown",
   "id": "nasty-navigator",
   "metadata": {},
   "source": [
    "### Shape = (Rows, Columns)"
   ]
  },
  {
   "cell_type": "code",
   "execution_count": 4,
   "id": "cathedral-director",
   "metadata": {},
   "outputs": [
    {
     "data": {
      "text/plain": [
       "(2, 4)"
      ]
     },
     "execution_count": 4,
     "metadata": {},
     "output_type": "execute_result"
    }
   ],
   "source": [
    "a.shape"
   ]
  },
  {
   "cell_type": "markdown",
   "id": "social-collector",
   "metadata": {},
   "source": [
    "![2-D Array](Images/4.png)"
   ]
  },
  {
   "cell_type": "markdown",
   "id": "steady-calgary",
   "metadata": {},
   "source": [
    "### Element Count"
   ]
  },
  {
   "cell_type": "code",
   "execution_count": 5,
   "id": "guilty-pasta",
   "metadata": {},
   "outputs": [
    {
     "data": {
      "text/plain": [
       "8"
      ]
     },
     "execution_count": 5,
     "metadata": {},
     "output_type": "execute_result"
    }
   ],
   "source": [
    "a.size"
   ]
  },
  {
   "cell_type": "markdown",
   "id": "seasonal-arlington",
   "metadata": {},
   "source": [
    "![2-D Array](Images/5.png)"
   ]
  },
  {
   "cell_type": "markdown",
   "id": "universal-necklace",
   "metadata": {},
   "source": [
    "### Get / Set Elements"
   ]
  },
  {
   "cell_type": "code",
   "execution_count": 6,
   "id": "public-mixer",
   "metadata": {},
   "outputs": [
    {
     "data": {
      "text/plain": [
       "13"
      ]
     },
     "execution_count": 6,
     "metadata": {},
     "output_type": "execute_result"
    }
   ],
   "source": [
    "a[1,3]"
   ]
  },
  {
   "cell_type": "markdown",
   "id": "empty-cemetery",
   "metadata": {},
   "source": [
    "![Get-Set Limit](Images/6.png)"
   ]
  },
  {
   "cell_type": "code",
   "execution_count": 7,
   "id": "understanding-villa",
   "metadata": {},
   "outputs": [],
   "source": [
    "a[1, 3] = -1"
   ]
  },
  {
   "cell_type": "code",
   "execution_count": 8,
   "id": "requested-finland",
   "metadata": {},
   "outputs": [
    {
     "data": {
      "text/plain": [
       "array([[ 0,  1,  2,  3],\n",
       "       [10, 11, 12, -1]])"
      ]
     },
     "execution_count": 8,
     "metadata": {},
     "output_type": "execute_result"
    }
   ],
   "source": [
    "a"
   ]
  },
  {
   "cell_type": "markdown",
   "id": "usual-vitamin",
   "metadata": {},
   "source": [
    "![get-set](Images/7.png)"
   ]
  },
  {
   "cell_type": "markdown",
   "id": "sophisticated-offer",
   "metadata": {},
   "source": [
    "### Address Second (Oneth) Row using Single Index"
   ]
  },
  {
   "cell_type": "code",
   "execution_count": 9,
   "id": "fluid-emerald",
   "metadata": {},
   "outputs": [
    {
     "data": {
      "text/plain": [
       "array([10, 11, 12, -1])"
      ]
     },
     "execution_count": 9,
     "metadata": {},
     "output_type": "execute_result"
    }
   ],
   "source": [
    "a[1]"
   ]
  },
  {
   "cell_type": "code",
   "execution_count": null,
   "id": "latin-stable",
   "metadata": {},
   "outputs": [],
   "source": []
  }
 ],
 "metadata": {
  "kernelspec": {
   "display_name": "Python 3",
   "language": "python",
   "name": "python3"
  },
  "language_info": {
   "codemirror_mode": {
    "name": "ipython",
    "version": 3
   },
   "file_extension": ".py",
   "mimetype": "text/x-python",
   "name": "python",
   "nbconvert_exporter": "python",
   "pygments_lexer": "ipython3",
   "version": "3.9.1"
  }
 },
 "nbformat": 4,
 "nbformat_minor": 5
}
