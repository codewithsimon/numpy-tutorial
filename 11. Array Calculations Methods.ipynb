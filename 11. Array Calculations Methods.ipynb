{
 "cells": [
  {
   "cell_type": "markdown",
   "id": "yellow-teens",
   "metadata": {},
   "source": [
    "# Array Calculations Methods"
   ]
  },
  {
   "cell_type": "code",
   "execution_count": 1,
   "id": "natural-muslim",
   "metadata": {},
   "outputs": [],
   "source": [
    "import numpy as np"
   ]
  },
  {
   "cell_type": "markdown",
   "id": "congressional-dividend",
   "metadata": {},
   "source": [
    "<hr>"
   ]
  },
  {
   "cell_type": "markdown",
   "id": "deluxe-nashville",
   "metadata": {},
   "source": [
    "### Sum Method"
   ]
  },
  {
   "cell_type": "code",
   "execution_count": 2,
   "id": "super-optimum",
   "metadata": {},
   "outputs": [],
   "source": [
    "a = np.array([[1,2,3],\n",
    "            [4,5,6]])"
   ]
  },
  {
   "cell_type": "markdown",
   "id": "secure-priority",
   "metadata": {},
   "source": [
    "- **.sum()** defaults to adding up all the values in an arra"
   ]
  },
  {
   "cell_type": "code",
   "execution_count": 3,
   "id": "demonstrated-acrobat",
   "metadata": {},
   "outputs": [
    {
     "data": {
      "text/plain": [
       "21"
      ]
     },
     "execution_count": 3,
     "metadata": {},
     "output_type": "execute_result"
    }
   ],
   "source": [
    "a.sum()"
   ]
  },
  {
   "cell_type": "markdown",
   "id": "abroad-convenience",
   "metadata": {},
   "source": [
    "- supply the keyword axis to sum along the 0th axis"
   ]
  },
  {
   "cell_type": "markdown",
   "id": "competitive-anchor",
   "metadata": {},
   "source": [
    "![Sum along 0 axis](Images/9.png)"
   ]
  },
  {
   "cell_type": "code",
   "execution_count": 4,
   "id": "decent-diana",
   "metadata": {},
   "outputs": [
    {
     "data": {
      "text/plain": [
       "array([5, 7, 9])"
      ]
     },
     "execution_count": 4,
     "metadata": {},
     "output_type": "execute_result"
    }
   ],
   "source": [
    "a.sum(axis=0)"
   ]
  },
  {
   "cell_type": "markdown",
   "id": "vital-amsterdam",
   "metadata": {},
   "source": [
    "- supply the keywords axis to sum along the last axis"
   ]
  },
  {
   "cell_type": "markdown",
   "id": "false-nelson",
   "metadata": {},
   "source": [
    "![Sum along -1 axis](Images/10.png)"
   ]
  },
  {
   "cell_type": "code",
   "execution_count": 5,
   "id": "blank-manual",
   "metadata": {},
   "outputs": [
    {
     "data": {
      "text/plain": [
       "array([ 6, 15])"
      ]
     },
     "execution_count": 5,
     "metadata": {},
     "output_type": "execute_result"
    }
   ],
   "source": [
    "a.sum(axis=-1)"
   ]
  },
  {
   "cell_type": "code",
   "execution_count": null,
   "id": "solid-homeless",
   "metadata": {},
   "outputs": [],
   "source": []
  }
 ],
 "metadata": {
  "kernelspec": {
   "display_name": "Python 3",
   "language": "python",
   "name": "python3"
  },
  "language_info": {
   "codemirror_mode": {
    "name": "ipython",
    "version": 3
   },
   "file_extension": ".py",
   "mimetype": "text/x-python",
   "name": "python",
   "nbconvert_exporter": "python",
   "pygments_lexer": "ipython3",
   "version": "3.9.1"
  }
 },
 "nbformat": 4,
 "nbformat_minor": 5
}
