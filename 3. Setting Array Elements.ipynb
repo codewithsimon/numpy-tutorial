{
 "cells": [
  {
   "cell_type": "markdown",
   "id": "developed-literature",
   "metadata": {},
   "source": [
    "# Setting Array Elements"
   ]
  },
  {
   "cell_type": "code",
   "execution_count": 11,
   "id": "bacterial-gross",
   "metadata": {},
   "outputs": [],
   "source": [
    "import numpy as np"
   ]
  },
  {
   "cell_type": "markdown",
   "id": "defined-eating",
   "metadata": {},
   "source": [
    "### Array Indexing"
   ]
  },
  {
   "cell_type": "code",
   "execution_count": 14,
   "id": "unlike-pencil",
   "metadata": {},
   "outputs": [],
   "source": [
    "a = np.array([0,1,2,3])"
   ]
  },
  {
   "cell_type": "markdown",
   "id": "proved-holder",
   "metadata": {},
   "source": [
    "![Array Indexing](Images/1.png)"
   ]
  },
  {
   "cell_type": "code",
   "execution_count": 16,
   "id": "abandoned-engagement",
   "metadata": {},
   "outputs": [
    {
     "data": {
      "text/plain": [
       "2"
      ]
     },
     "execution_count": 16,
     "metadata": {},
     "output_type": "execute_result"
    }
   ],
   "source": [
    "a[0]\n",
    "a[2]"
   ]
  },
  {
   "cell_type": "code",
   "execution_count": 17,
   "id": "adopted-brisbane",
   "metadata": {},
   "outputs": [
    {
     "data": {
      "text/plain": [
       "array([10,  1,  2,  3])"
      ]
     },
     "execution_count": 17,
     "metadata": {},
     "output_type": "execute_result"
    }
   ],
   "source": [
    "a[0] = 10\n",
    "a"
   ]
  },
  {
   "cell_type": "markdown",
   "id": "checked-xerox",
   "metadata": {},
   "source": [
    "![Array Indexing](Images/2.png)"
   ]
  },
  {
   "cell_type": "markdown",
   "id": "fluid-polyester",
   "metadata": {},
   "source": [
    "### Beware of Type"
   ]
  },
  {
   "cell_type": "code",
   "execution_count": 6,
   "id": "working-estimate",
   "metadata": {},
   "outputs": [
    {
     "data": {
      "text/plain": [
       "dtype('int32')"
      ]
     },
     "execution_count": 6,
     "metadata": {},
     "output_type": "execute_result"
    }
   ],
   "source": [
    "a.dtype"
   ]
  },
  {
   "cell_type": "markdown",
   "id": "difficult-broadcasting",
   "metadata": {},
   "source": [
    "> assigning a float into an in32 array truncates the decimal"
   ]
  },
  {
   "cell_type": "code",
   "execution_count": 7,
   "id": "spectacular-jerusalem",
   "metadata": {},
   "outputs": [],
   "source": [
    "a[0] = 10.6"
   ]
  },
  {
   "cell_type": "code",
   "execution_count": 8,
   "id": "proud-equipment",
   "metadata": {},
   "outputs": [
    {
     "data": {
      "text/plain": [
       "array([10,  1,  2,  3])"
      ]
     },
     "execution_count": 8,
     "metadata": {},
     "output_type": "execute_result"
    }
   ],
   "source": [
    "a"
   ]
  },
  {
   "cell_type": "markdown",
   "id": "fifth-billion",
   "metadata": {},
   "source": [
    "#### fill works the same way"
   ]
  },
  {
   "cell_type": "code",
   "execution_count": 9,
   "id": "interim-elements",
   "metadata": {},
   "outputs": [],
   "source": [
    "a.fill(-4.8)"
   ]
  },
  {
   "cell_type": "code",
   "execution_count": 10,
   "id": "parliamentary-personal",
   "metadata": {},
   "outputs": [
    {
     "data": {
      "text/plain": [
       "array([-4, -4, -4, -4])"
      ]
     },
     "execution_count": 10,
     "metadata": {},
     "output_type": "execute_result"
    }
   ],
   "source": [
    "a"
   ]
  },
  {
   "cell_type": "code",
   "execution_count": null,
   "id": "alike-magazine",
   "metadata": {},
   "outputs": [],
   "source": []
  }
 ],
 "metadata": {
  "kernelspec": {
   "display_name": "Python 3",
   "language": "python",
   "name": "python3"
  },
  "language_info": {
   "codemirror_mode": {
    "name": "ipython",
    "version": 3
   },
   "file_extension": ".py",
   "mimetype": "text/x-python",
   "name": "python",
   "nbconvert_exporter": "python",
   "pygments_lexer": "ipython3",
   "version": "3.9.1"
  }
 },
 "nbformat": 4,
 "nbformat_minor": 5
}
